{
 "cells": [
  {
   "cell_type": "code",
   "execution_count": 1,
   "metadata": {},
   "outputs": [
    {
     "name": "stdout",
     "output_type": "stream",
     "text": [
      "Found 11230 images belonging to 6 classes.\n",
      "Found 2804 images belonging to 6 classes.\n",
      "(32, 128, 128, 3)\n",
      "[1. 5. 1. 2. 2. 3. 2. 1. 5. 3. 4. 0. 4. 3. 3. 2. 2. 1. 1. 2. 0. 2. 0. 1.\n",
      " 5. 3. 0. 3. 5. 4. 5. 2.]\n"
     ]
    }
   ],
   "source": [
    "import tensorflow as tf\n",
    "\n",
    "\n",
    "# ImageDataGenerator():\n",
    "#    입력으로 들어오는 이미지를 다양한 방향과 각도로 학습 시켜 텐서 이미지 데이터 배치를 생성한다\n",
    "#    또, 많은 양의 데이터가 있다면 이를 다 불러올 수 없으므로 이미지의 사이즈를 조절해 파라미터를 이용해 이미지 스케일링을 해준다.\n",
    "#     - 파라미터\n",
    "#         - rescale : 배율 조정\n",
    "#         - zoom_range : 임의의 확대/축소 범위\n",
    "#         - width_shift_range :  수평방향 내에서 임의로 원본 이미지 좌우로 이동\n",
    "#         - height_shift_range :  수직방향 내에서 임의로 원본 이미지 상하로 이동\n",
    "#         - validation_split : 주어진 데이터셋을 test와 training으로 나누는 비율\n",
    "\n",
    "igd=tf.keras.preprocessing.image.ImageDataGenerator(rescale=1./255,zoom_range=0.2,\n",
    "                                                    width_shift_range=0.1,\n",
    "                                                    height_shift_range=0.1,\n",
    "                                                    validation_split=0.2)\n",
    "\n",
    "# flow_from_directory():\n",
    "#      directory경로로부터 dataframe을 가져오고 augmented 또는 normalized된 data배치를 생선한다\n",
    "#      주요 인자\n",
    "#        - 첫번째 인자 : 이미지 경로를 지정\n",
    "#        - target_size : 패치 이미지 크기 지정\n",
    "#                       폴더에 있는 원본 이미지 크기가 다르더라도 target_size에 지정된 크기로 자동 조절\n",
    "#       - batch_size : 배치 크기를 지정\n",
    "#       - class_mode : 분류 방식에 대해 지정\n",
    "#                    - categorical : 2D 원-핫 부호화된 라벨 반환\n",
    "#                    - binary : 1D 이진 라벨 반환\n",
    "#                    - sparse : 1D 정수 라벨 반환\n",
    "#                    - None : 라벨이 반환되지 않음\n",
    "#       - save_format : 저장 형태 지정\n",
    "#                     - png (default)\n",
    "#                     - jpg\n",
    "#       - color_mode : 몇 개의 채널을 가질지 여부\n",
    "#                    - grayscale 채널 1개\n",
    "#                    - rbg 채널 3개 (default)\n",
    "#                    - rgba 채널 4개\n",
    "#       - subset : ImageDataGenerator에서 validation_split으로 선정한 training과 validation의 비율만큼 이미지를 가져옴\n",
    "\n",
    "# 이미지 데이터들이 들어있는 directory자체를 불러와 training set 과  validation set을 나눠주기 위해 flow_from_directory()사용\n",
    "traing_g=igd.flow_from_directory(\"./data/seg_train/seg_train\", target_size=(128,128),\n",
    "                               color_mode=\"rgb\", class_mode=\"sparse\",\n",
    "                               batch_size=32,save_format=\"jpg\", subset=\"training\")\n",
    "\n",
    "validation_g=igd.flow_from_directory(\"./data/seg_train/seg_train\", target_size=(128,128),\n",
    "                               color_mode=\"rgb\", class_mode=\"sparse\",\n",
    "                               batch_size=32,save_format=\"jpg\", subset=\"validation\")\n",
    "\n",
    "\n",
    "for image_batch,labels_batch in traing_g:\n",
    "    print(image_batch.shape)\n",
    "    print(labels_batch)\n",
    "    break"
   ]
  },
  {
   "cell_type": "markdown",
   "metadata": {},
   "source": [
    "- Conv2D : 특정한 패턴의 특징이 어디서 나타나는지를 확인하는 도구\n",
    "    - 첫번째 인자 : filter 수 (filter 하나당 하나의 이미지가 만들어진다)\\\n",
    "        => 여기서는 첫번째 Conv2D에서 filter 수를 16개 지정해줘서 16개의 feature map이 만들어진다\n",
    "    - 두번째 인자 : filter size\n",
    "    - padding : 경계 처리 방법\n",
    "        - vaild : 유효한 영역만 출력됨. 따라서, 출력이미지 사이즈는 입력이미지보다 작다\n",
    "        - same : 출력 이미지 사이즈가 입력이미지 사이즈와 동일\n",
    "    - input_shape : 샘플 수를 재외한 입력 형태 정의(모델에서 첫 레이어에만 적용 (행, 열, 채널 수) )\n",
    "    - activation : 활성화 함수 설정\n",
    "   \n",
    "    <img src=\"./image/conv2d.png\" height=\"200px\" width=\"400px\" >\n",
    "    \n",
    "- MaxPooling2D : feature map으로부터 값을 샘플링해서 정보를 압축한다\n",
    "    *  MaxPooling2D 사용하는 이유\n",
    "        - 이미지의 크기를 줄이면서 데이터의 손실을 막기 위해 합성곱 계층에서 스트라이드 값을 1로 지정하는 대신, 폴링 계층을 사용한다\n",
    "        - 합성곱 계층의 과적합(overfittin)을 막기위해 사용한다\n",
    "    \n",
    "    <img src=\"./image/maxpooling2d.png\" height=\"200px\" width=\"400px\" >"
   ]
  },
  {
   "cell_type": "code",
   "execution_count": 2,
   "metadata": {},
   "outputs": [
    {
     "name": "stdout",
     "output_type": "stream",
     "text": [
      "Model: \"model\"\n",
      "_________________________________________________________________\n",
      "Layer (type)                 Output Shape              Param #   \n",
      "=================================================================\n",
      "img (InputLayer)             [(None, 128, 128, 3)]     0         \n",
      "_________________________________________________________________\n",
      "conv2d (Conv2D)              (None, 126, 126, 16)      448       \n",
      "_________________________________________________________________\n",
      "max_pooling2d (MaxPooling2D) (None, 63, 63, 16)        0         \n",
      "_________________________________________________________________\n",
      "batch_normalization (BatchNo (None, 63, 63, 16)        64        \n",
      "_________________________________________________________________\n",
      "conv2d_1 (Conv2D)            (None, 61, 61, 32)        4640      \n",
      "_________________________________________________________________\n",
      "max_pooling2d_1 (MaxPooling2 (None, 30, 30, 32)        0         \n",
      "_________________________________________________________________\n",
      "flatten (Flatten)            (None, 28800)             0         \n",
      "_________________________________________________________________\n",
      "dense (Dense)                (None, 64)                1843264   \n",
      "_________________________________________________________________\n",
      "dropout (Dropout)            (None, 64)                0         \n",
      "_________________________________________________________________\n",
      "dense_1 (Dense)              (None, 6)                 390       \n",
      "=================================================================\n",
      "Total params: 1,848,806\n",
      "Trainable params: 1,848,774\n",
      "Non-trainable params: 32\n",
      "_________________________________________________________________\n"
     ]
    }
   ],
   "source": [
    "# 모델 생성\n",
    "\n",
    "# 이미지를 높이 128, 너비 128, 채널 3으로 형태 정보를 준다\n",
    "inputs=tf.keras.Input(shape=(128,128,3),name=\"img\")\n",
    "\n",
    "# Conv2D, MaxPooling2D으로 주요 특징을 추출(4차원)\n",
    "\n",
    "# filter 수를 16개 지정해줘서 16개의 feature map이 만들어진다\n",
    "c1=tf.keras.layers.Conv2D(16,(3,3),activation=\"relu\",input_shape=(128,128,3))(inputs)\n",
    "# feature map으로부터 값을 샘플링해서 정보를 압축한다(overfittin막기 위해 사용)\n",
    "m1=tf.keras.layers.MaxPooling2D(2,2)(c1)\n",
    "\n",
    "# BatchNormalization으로 평균 출력을 0에 가깝게 유지하고 출력 표준 편차를 1에 가깝게 유지하는 변환을 적용\n",
    "b1=tf.keras.layers.BatchNormalization()(m1)\n",
    "\n",
    "# filter 수를 32개 지정해주므로 32개의 feature map이 만들어진다\n",
    "c2=tf.keras.layers.Conv2D(32,(3,3),activation=\"relu\")(b1)\n",
    "m2=tf.keras.layers.MaxPooling2D(2,2)(c2)\n",
    "\n",
    "# Conv2D는 3차원 형태의 관측치를 입력으로 받는다 \n",
    "# 그래서 Dense layer에 전달하기 위해 2차원 자료를 1차원 자료로 변환\n",
    "f=tf.keras.layers.Flatten()(m2)\n",
    "\n",
    "# overfitting을 막기위해 0.2비율로 몇개의 노드 Dropout\n",
    "\n",
    "d=tf.keras.layers.Dense(64,activation=\"relu\")(f)\n",
    "dr=tf.keras.layers.Dropout(0.5)(d)\n",
    "# 출력 뉴런수 6(label이 6개니까 6개로 설정)\n",
    "# 활성화 함수로 softmax를 사용하여 해당 target의 확률 계산\n",
    "outputs=tf.keras.layers.Dense(6,activation=\"softmax\")(dr)\n",
    "\n",
    "model=tf.keras.Model(inputs=inputs,outputs=outputs)\n",
    "\n",
    "# 모델 학습과정 설정\n",
    "\n",
    "# loss : 현재 가중치 세트를 평가하는데 사용한 손실함수\n",
    "# 여기서는 훈련데이터의 label(target)이 정수라 SparseCategoricalCrossentropy사용\n",
    "\n",
    "# optimizer : 최적의 가중치를 찾는데 사용되는 최적화 알고리즘으로 Adam사용\n",
    "\n",
    "# Metric : 학습 평가 기준 (학습 과정 중 제대로 학습되고 있는지 확인)\n",
    "model.compile(optimizer=tf.keras.optimizers.Adam(learning_rate=0.001),\n",
    "              loss=tf.keras.losses.SparseCategoricalCrossentropy(),\n",
    "              metrics=[\"accuracy\"])\n",
    "\n",
    "model.summary()"
   ]
  },
  {
   "cell_type": "code",
   "execution_count": 3,
   "metadata": {},
   "outputs": [
    {
     "name": "stdout",
     "output_type": "stream",
     "text": [
      "Epoch 1/30\n",
      "351/351 [==============================] - 51s 124ms/step - loss: 1.9271 - accuracy: 0.3267 - val_loss: 1.4105 - val_accuracy: 0.4775\n",
      "Epoch 2/30\n",
      "351/351 [==============================] - 43s 122ms/step - loss: 1.3255 - accuracy: 0.4336 - val_loss: 1.2091 - val_accuracy: 0.5143\n",
      "Epoch 3/30\n",
      "351/351 [==============================] - 43s 122ms/step - loss: 1.1614 - accuracy: 0.5395 - val_loss: 1.1154 - val_accuracy: 0.5706\n",
      "Epoch 4/30\n",
      "351/351 [==============================] - 43s 122ms/step - loss: 1.1222 - accuracy: 0.5475 - val_loss: 1.1241 - val_accuracy: 0.5824\n",
      "Epoch 5/30\n",
      "351/351 [==============================] - 43s 122ms/step - loss: 1.0848 - accuracy: 0.5758 - val_loss: 0.9984 - val_accuracy: 0.6598\n",
      "Epoch 6/30\n",
      "351/351 [==============================] - 43s 122ms/step - loss: 1.0606 - accuracy: 0.5778 - val_loss: 1.1376 - val_accuracy: 0.5556\n",
      "Epoch 7/30\n",
      "351/351 [==============================] - 43s 122ms/step - loss: 0.9914 - accuracy: 0.6133 - val_loss: 0.8149 - val_accuracy: 0.7165\n",
      "Epoch 8/30\n",
      "351/351 [==============================] - 43s 122ms/step - loss: 1.0189 - accuracy: 0.5944 - val_loss: 0.9134 - val_accuracy: 0.6983\n",
      "Epoch 9/30\n",
      "351/351 [==============================] - 43s 122ms/step - loss: 0.9565 - accuracy: 0.6183 - val_loss: 0.8234 - val_accuracy: 0.7243\n",
      "Epoch 10/30\n",
      "351/351 [==============================] - 43s 122ms/step - loss: 0.9485 - accuracy: 0.6289 - val_loss: 0.7735 - val_accuracy: 0.7507\n",
      "Epoch 11/30\n",
      "351/351 [==============================] - 43s 122ms/step - loss: 0.9330 - accuracy: 0.6377 - val_loss: 0.8979 - val_accuracy: 0.6869\n",
      "Epoch 12/30\n",
      "351/351 [==============================] - 43s 122ms/step - loss: 0.9000 - accuracy: 0.6519 - val_loss: 0.7899 - val_accuracy: 0.7208\n",
      "Epoch 13/30\n",
      "351/351 [==============================] - 43s 122ms/step - loss: 0.8706 - accuracy: 0.6726 - val_loss: 1.5292 - val_accuracy: 0.5157\n",
      "Epoch 14/30\n",
      "351/351 [==============================] - 43s 122ms/step - loss: 0.8948 - accuracy: 0.6640 - val_loss: 0.7241 - val_accuracy: 0.7325\n",
      "Epoch 15/30\n",
      "351/351 [==============================] - 43s 122ms/step - loss: 0.8505 - accuracy: 0.6782 - val_loss: 0.7381 - val_accuracy: 0.7557\n",
      "Epoch 16/30\n",
      "351/351 [==============================] - 43s 122ms/step - loss: 0.8583 - accuracy: 0.6792 - val_loss: 0.7098 - val_accuracy: 0.7600\n",
      "Epoch 17/30\n",
      "351/351 [==============================] - 43s 122ms/step - loss: 0.8591 - accuracy: 0.6824 - val_loss: 0.8524 - val_accuracy: 0.6951\n",
      "Epoch 18/30\n",
      "351/351 [==============================] - 43s 122ms/step - loss: 0.8482 - accuracy: 0.6806 - val_loss: 0.6232 - val_accuracy: 0.7750\n",
      "Epoch 19/30\n",
      "351/351 [==============================] - 43s 122ms/step - loss: 0.8258 - accuracy: 0.6945 - val_loss: 1.2000 - val_accuracy: 0.6387\n",
      "Epoch 20/30\n",
      "351/351 [==============================] - 43s 122ms/step - loss: 0.8341 - accuracy: 0.6896 - val_loss: 0.7620 - val_accuracy: 0.7033\n",
      "Epoch 21/30\n",
      "351/351 [==============================] - 43s 122ms/step - loss: 0.8232 - accuracy: 0.6922 - val_loss: 0.6270 - val_accuracy: 0.7825\n",
      "Epoch 22/30\n",
      "351/351 [==============================] - 43s 122ms/step - loss: 0.7898 - accuracy: 0.7051 - val_loss: 0.6984 - val_accuracy: 0.7429\n",
      "Epoch 23/30\n",
      "351/351 [==============================] - 43s 122ms/step - loss: 0.8267 - accuracy: 0.6962 - val_loss: 0.6697 - val_accuracy: 0.7500\n",
      "Epoch 24/30\n",
      "351/351 [==============================] - 43s 122ms/step - loss: 0.8005 - accuracy: 0.7048 - val_loss: 0.8930 - val_accuracy: 0.6612\n",
      "Epoch 25/30\n",
      "351/351 [==============================] - 43s 122ms/step - loss: 0.8223 - accuracy: 0.6947 - val_loss: 1.0106 - val_accuracy: 0.6601\n",
      "Epoch 26/30\n",
      "351/351 [==============================] - 43s 122ms/step - loss: 0.8045 - accuracy: 0.7040 - val_loss: 0.6126 - val_accuracy: 0.7903\n",
      "Epoch 27/30\n",
      "351/351 [==============================] - 43s 123ms/step - loss: 0.8008 - accuracy: 0.7000 - val_loss: 0.6084 - val_accuracy: 0.7832\n",
      "Epoch 28/30\n",
      "351/351 [==============================] - 43s 123ms/step - loss: 0.7941 - accuracy: 0.7048 - val_loss: 0.6371 - val_accuracy: 0.7764\n",
      "Epoch 29/30\n",
      "351/351 [==============================] - 43s 122ms/step - loss: 0.8129 - accuracy: 0.7044 - val_loss: 0.7564 - val_accuracy: 0.7364\n",
      "Epoch 30/30\n",
      "351/351 [==============================] - 43s 123ms/step - loss: 0.8013 - accuracy: 0.6941 - val_loss: 0.6219 - val_accuracy: 0.7760\n"
     ]
    }
   ],
   "source": [
    "# 모델 학습\n",
    "\n",
    "# fit() 인자\n",
    "#   - 첫번째 인자 : training 시킬 데이터 입력\n",
    "#   - epochs : 전체 훈련 데이터셋의 학습 반복 횟수 지정\n",
    "#   - validation_data : 검증데이터셋을 제공할 제너레이터 지정\n",
    "#   - validation_steps : epoch종료 때마다 검증 스텝수를 지정\n",
    "\n",
    "history=model.fit(traing_g,epochs=30,validation_data=(validation_g))"
   ]
  },
  {
   "cell_type": "code",
   "execution_count": 4,
   "metadata": {},
   "outputs": [
    {
     "data": {
      "image/png": "[encoded data removed]",
      "text/plain": [
       "<Figure size 1152x72 with 2 Axes>"
      ]
     },
     "metadata": {
      "needs_background": "light"
     },
     "output_type": "display_data"
    }
   ],
   "source": [
    "# 결과 시각화\n",
    "\n",
    "# epoch별로 loss와 val_loss, acc와 val_acc의 경향보기\n",
    "import matplotlib.pyplot as plt\n",
    "\n",
    "def show_graph(history_dict):\n",
    "    accuracy = history_dict['accuracy']\n",
    "    val_accuracy = history_dict['val_accuracy']\n",
    "    loss = history_dict['loss']\n",
    "    val_loss = history_dict['val_loss']\n",
    "\n",
    "    epochs = range(1, len(loss) + 1)\n",
    "\n",
    "    plt.figure(figsize=(16, 1))\n",
    "\n",
    "    plt.subplot(121)\n",
    "    plt.subplots_adjust(top=2)\n",
    "    plt.plot(epochs, accuracy, 'ro', label='Training accuracy')\n",
    "    plt.plot(epochs, val_accuracy, 'r', label='Validation accuracy')\n",
    "    plt.title('Trainging and validation accuracy and loss')\n",
    "    plt.xlabel('Epochs')\n",
    "    plt.ylabel('Accuracy and Loss')\n",
    "\n",
    "    plt.legend(loc='upper center', bbox_to_anchor=(0.5, -0.1),\n",
    "               fancybox=True, shadow=True, ncol=5)\n",
    "\n",
    "    plt.subplot(122)\n",
    "    plt.plot(epochs, loss, 'bo', label='Training loss')\n",
    "    plt.plot(epochs, val_loss, 'b', label='Validation loss')\n",
    "    plt.title('Training and validation loss')\n",
    "    plt.xlabel('Epochs')\n",
    "    plt.ylabel('Loss')\n",
    "    plt.legend(loc='upper center', bbox_to_anchor=(0.5, -0.1),\n",
    "               fancybox=True, shadow=True, ncol=5)\n",
    "\n",
    "    plt.show()\n",
    "\n",
    "show_graph(history.history)"
   ]
  },
  {
   "cell_type": "code",
   "execution_count": 5,
   "metadata": {},
   "outputs": [
    {
     "name": "stdout",
     "output_type": "stream",
     "text": [
      "Found 3000 images belonging to 6 classes.\n",
      "94/94 [==============================] - 3s 32ms/step - loss: 0.5534 - accuracy: 0.8117\n"
     ]
    },
    {
     "data": {
      "text/plain": [
       "{'loss': 0.5534, 'accuracy': 0.8117}"
      ]
     },
     "execution_count": 5,
     "metadata": {},
     "output_type": "execute_result"
    }
   ],
   "source": [
    "import numpy as np\n",
    "# test data도 ImageDataGenerator 생성\n",
    "test_igd = tf.keras.preprocessing.image.ImageDataGenerator(rescale=1./255 )\n",
    "test_g = test_igd.flow_from_directory(\"./data/seg_test/seg_test\",target_size=(128,128),color_mode=\"rgb\", class_mode=\"sparse\",\n",
    "                               batch_size=32,save_format=\"jpg\")\n",
    "\n",
    "# 모델 평가\n",
    "evaluate=model.evaluate(test_g)\n",
    "dict(zip(model.metrics_names, np.round(evaluate,4)))"
   ]
  },
  {
   "cell_type": "code",
   "execution_count": null,
   "metadata": {},
   "outputs": [],
   "source": [
    "# https://chunggaeguri.tistory.com/entry/ImageDataGenerator\n",
    "# https://codetorial.net/tensorflow/convolutional_neural_network.html\n",
    "# https://stackoverflow.com/questions/53941002/how-to-add-custom-filter-to-conv2d-layer-in-keras"
   ]
  }
 ],
 "metadata": {
  "kernelspec": {
   "display_name": "Python 3",
   "language": "python",
   "name": "python3"
  },
  "language_info": {
   "codemirror_mode": {
    "name": "ipython",
    "version": 3
   },
   "file_extension": ".py",
   "mimetype": "text/x-python",
   "name": "python",
   "nbconvert_exporter": "python",
   "pygments_lexer": "ipython3",
   "version": "3.8.5"
  }
 },
 "nbformat": 4,
 "nbformat_minor": 4
}

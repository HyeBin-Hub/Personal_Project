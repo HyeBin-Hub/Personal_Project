{
 "cells": [
  {
   "cell_type": "code",
   "execution_count": 3,
   "metadata": {},
   "outputs": [],
   "source": [
    "# 올리브영에서 리뷰페이지 3까지 find_elements로 페이지 번호 리스트로 가져와서 0,1,2,3누르고 후기 크롤링하기\n",
    "\n",
    "import requests\n",
    "from selenium import webdriver\n",
    "from selenium.webdriver.common.by import By\n",
    "\n",
    "url=\"https://www.oliveyoung.co.kr/store/main/getBestList.do\"\n",
    "driver=webdriver.Chrome(\"./chromedriver.exe\")\n",
    "driver.get(url)\n"
   ]
  },
  {
   "cell_type": "code",
   "execution_count": 4,
   "metadata": {},
   "outputs": [],
   "source": [
    "def get_review(title):\n",
    "    rl=[]\n",
    "    driver.find_element(By.CSS_SELECTOR,\"a.goods_reputation\").click()\n",
    "    time.sleep(2)\n",
    "    \n",
    "    reviews=driver.find_elements(By.CSS_SELECTOR,\"div.review_cont\")\n",
    "    for r in reviews:\n",
    "        rd={\"title\":title}\n",
    "        rd[\"rat\"]=r.find_element(By.CSS_SELECTOR,\"span.point\").text\n",
    "        rd[\"text\"]=r.find_element(By.CSS_SELECTOR,\"div.txt_inner\").text\n",
    "        rl.append(rd)\n",
    "    #df=pd.DataFrame(rl)\n",
    "    #df.to_csv(title+\".csv\")\n",
    "    return rl"
   ]
  },
  {
   "cell_type": "code",
   "execution_count": null,
   "metadata": {},
   "outputs": [],
   "source": []
  },
  {
   "cell_type": "code",
   "execution_count": null,
   "metadata": {},
   "outputs": [],
   "source": [
    "prd_list=driver.find_elements(By.CSS_SELECTOR,\"div.prd_name\")\n",
    "prd_len=len(prd_list)\n",
    "\n",
    "result=[]\n",
    "for j in range(1,4):\n",
    "    driver.find_elements(By.CSS_SELECTOR,\"div.pageing\").click()\n",
    "    for i in range(3) :\n",
    "        prd_dict={}\n",
    "        prd=prd_list[i]\n",
    "\n",
    "        prd_dict[\"title\"]=prd.find_element(By.CSS_SELECTOR,\"p.tx_name\").text\n",
    "        prd_dict[\"brand\"]=prd.find_element(By.CSS_SELECTOR,\"span.tx_brand\").text\n",
    "\n",
    "        prd.click()\n",
    "        time.sleep(2)\n",
    "\n",
    "        try:\n",
    "            price=driver.find_element(By.CSS_SELECTOR,\"span.price-1\").text\n",
    "            prd_dict[\"price1\"]=price.strip()\n",
    "        except:\n",
    "            prd_dict[\"price1\"]=None\n",
    "        try:\n",
    "            price=driver.find_element(By.CSS_SELECTOR,\"span.price-2\").text\n",
    "            prd_dict[\"price2\"]=price.strip()\n",
    "        except:\n",
    "            prd_dict[\"price1\"]=None\n",
    "\n",
    "        review=driver.find_element(By.CSS_SELECTOR,\"p#repReview\")\n",
    "        prd_dict[\"rat\"]=review.find_element(By.CSS_SELECTOR,\"b\").text\n",
    "        prd_dict[\"rat_cnt\"]=review.find_element(By.CSS_SELECTOR,\"em\").text\n",
    "        print(str(get_review(prd_dict[\"title\"])))\n",
    "        print(prd_dict)\n",
    "        result.append(prd_dict)\n",
    "        driver.back()\n",
    "        time.sleep(2)\n",
    "        prd_list=driver.find_elements(By.CSS_SELECTOR,\"div.prd_name\")\n",
    "result"
   ]
  }
 ],
 "metadata": {
  "kernelspec": {
   "display_name": "Python 3",
   "language": "python",
   "name": "python3"
  },
  "language_info": {
   "codemirror_mode": {
    "name": "ipython",
    "version": 3
   },
   "file_extension": ".py",
   "mimetype": "text/x-python",
   "name": "python",
   "nbconvert_exporter": "python",
   "pygments_lexer": "ipython3",
   "version": "3.8.5"
  }
 },
 "nbformat": 4,
 "nbformat_minor": 4
}

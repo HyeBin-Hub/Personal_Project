{
 "cells": [
  {
   "cell_type": "code",
   "execution_count": 1,
   "metadata": {},
   "outputs": [],
   "source": [
    "import pandas as pd\n",
    "import numpy as np\n",
    "import tensorflow as tf\n",
    "from sklearn.model_selection import train_test_split\n",
    "\n",
    "df=pd.read_csv(\"./Womens Clothing E-Commerce Reviews.csv\")"
   ]
  },
  {
   "cell_type": "code",
   "execution_count": 2,
   "metadata": {},
   "outputs": [],
   "source": [
    "# 데이터 전처리\n",
    "df[\"Class Name\"]=df[\"Class Name\"].fillna(\"None\")\n",
    "df[\"Division Name\"]=df[\"Division Name\"].fillna(\"None\")\n",
    "df[\"Age\"]=df[\"Age\"].fillna(30)"
   ]
  },
  {
   "cell_type": "code",
   "execution_count": 3,
   "metadata": {},
   "outputs": [
    {
     "name": "stdout",
     "output_type": "stream",
     "text": [
      "(21137, 3)\n",
      "(2349, 3)\n",
      "(21137,)\n",
      "(2349,)\n"
     ]
    }
   ],
   "source": [
    "train = df[['Age','Division Name','Class Name','Rating']].to_numpy()\n",
    "X_train, X_test, y_train, y_test = train_test_split(train[:,:-1], train[:,-1], test_size=0.1)\n",
    "print(X_train.shape)\n",
    "print(X_test.shape)\n",
    "print(y_train.shape)\n",
    "print(y_test.shape)"
   ]
  },
  {
   "cell_type": "code",
   "execution_count": 4,
   "metadata": {},
   "outputs": [
    {
     "name": "stdout",
     "output_type": "stream",
     "text": [
      "(100, 1)\n",
      "['Intimates' 'Dresses' 'Pants' 'Blouses' 'Knits' 'Outerwear' 'Lounge'\n",
      " 'Sweaters' 'Skirts' 'Fine gauge' 'Sleep' 'Jackets' 'Swim' 'Trend' 'Jeans'\n",
      " 'Legwear' 'Shorts' 'Layering' 'Casual bottoms' 'None' 'Chemises']\n",
      "['Initmates' 'General' 'General Petite' 'None']\n"
     ]
    }
   ],
   "source": [
    "# ??????\n",
    "adapt_age = np.array(range(100), dtype=np.float32)\n",
    "adapt_age = np.reshape(adapt_age,(-1,1))\n",
    "cn_nq =  df['Class Name'].unique()\n",
    "dn_nq = df['Division Name'].unique()\n",
    "print(adapt_age.shape)\n",
    "print(cn_nq)\n",
    "print(dn_nq)"
   ]
  },
  {
   "cell_type": "markdown",
   "metadata": {},
   "source": [
    "- Normalization\n",
    "<img src=\"./image/Normalization.png\" height=\"600px\" width=\"600px\" >\n",
    "\n",
    "Layer Normalization은 각 input의 feature들에 대한 평균과 분산을 구해 batch에 있는 각 input을 정규화하고\n",
    "Batch normalization은 각 feature의 평균과 분산을 구해서 batch에 있는 각 feature를 정규화한다고 한다."
   ]
  },
  {
   "cell_type": "code",
   "execution_count": 2,
   "metadata": {},
   "outputs": [
    {
     "data": {
      "text/plain": [
       "<tf.Tensor: shape=(2, 3), dtype=int64, numpy=\n",
       "array([[2, 4, 5],\n",
       "       [5, 1, 3]], dtype=int64)>"
      ]
     },
     "execution_count": 2,
     "metadata": {},
     "output_type": "execute_result"
    }
   ],
   "source": [
    "# =================================================================================\n",
    "# StringLookup layer Example\n",
    "\n",
    "vocab = [\"a\", \"b\", \"c\", \"d\"]\n",
    "data = tf.constant([[\"a\", \"c\", \"d\"], [\"d\", \"z\", \"b\"]])\n",
    "layer = tf.keras.layers.experimental.preprocessing.StringLookup(vocabulary=vocab)\n",
    "layer(data)\n",
    "\n",
    "# vocab로 단어집을 만들고 tf.constant로 변수를 선언해준 다음\n",
    "# StringLookup layer에 인자로 단어집을 넣어주면\n",
    "# data의 값들이 index로 표현된다 \n",
    "# ================================================================================="
   ]
  },
  {
   "cell_type": "code",
   "execution_count": 5,
   "metadata": {
    "scrolled": true
   },
   "outputs": [
    {
     "name": "stdout",
     "output_type": "stream",
     "text": [
      "Model: \"model\"\n",
      "__________________________________________________________________________________________________\n",
      "Layer (type)                    Output Shape         Param #     Connected to                     \n",
      "==================================================================================================\n",
      "ClassName (InputLayer)          [(None, 1)]          0                                            \n",
      "__________________________________________________________________________________________________\n",
      "DivisionName (InputLayer)       [(None, 1)]          0                                            \n",
      "__________________________________________________________________________________________________\n",
      "string_lookup (StringLookup)    (None, 1)            0           ClassName[0][0]                  \n",
      "__________________________________________________________________________________________________\n",
      "string_lookup_1 (StringLookup)  (None, 1)            0           DivisionName[0][0]               \n",
      "__________________________________________________________________________________________________\n",
      "embedding (Embedding)           (None, 1, 10)        220         string_lookup[0][0]              \n",
      "__________________________________________________________________________________________________\n",
      "embedding_1 (Embedding)         (None, 1, 5)         25          string_lookup_1[0][0]            \n",
      "__________________________________________________________________________________________________\n",
      "concatenate (Concatenate)       (None, 1, 15)        0           embedding[0][0]                  \n",
      "                                                                 embedding_1[0][0]                \n",
      "__________________________________________________________________________________________________\n",
      "Age (InputLayer)                [(None, 1)]          0                                            \n",
      "__________________________________________________________________________________________________\n",
      "flatten (Flatten)               (None, 15)           0           concatenate[0][0]                \n",
      "__________________________________________________________________________________________________\n",
      "normalization (Normalization)   (None, 1)            3           Age[0][0]                        \n",
      "__________________________________________________________________________________________________\n",
      "dense (Dense)                   (None, 16)           256         flatten[0][0]                    \n",
      "__________________________________________________________________________________________________\n",
      "dense_1 (Dense)                 (None, 8)            16          normalization[0][0]              \n",
      "__________________________________________________________________________________________________\n",
      "concatenate_1 (Concatenate)     (None, 24)           0           dense[0][0]                      \n",
      "                                                                 dense_1[0][0]                    \n",
      "__________________________________________________________________________________________________\n",
      "dense_2 (Dense)                 (None, 16)           400         concatenate_1[0][0]              \n",
      "__________________________________________________________________________________________________\n",
      "dense_3 (Dense)                 (None, 1)            17          dense_2[0][0]                    \n",
      "==================================================================================================\n",
      "Total params: 937\n",
      "Trainable params: 934\n",
      "Non-trainable params: 3\n",
      "__________________________________________________________________________________________________\n"
     ]
    }
   ],
   "source": [
    "# input사이즈가 (1,)인 이유는 입력해준 열들이 다 하나의 값만 가지고 있자나\n",
    "# shape=(32,) 는 예상 입력이 32 차원 벡터의 배치임을 나타냅니다. \n",
    "# 입력이 3개가 들어감\n",
    "age = tf.keras.Input(shape=(1,), name='Age')\n",
    "cn = tf.keras.Input(shape=(1,), dtype='string', name='ClassName')\n",
    "dn = tf.keras.Input(shape=(1,), dtype='string', name='DivisionName')\n",
    "\"\"\"\n",
    "# adapt() 메서드 ???????????????\n",
    "# 일부 전처리 레이어에는 훈련 데이터의 샘플을 기반으로 계산해야 하는 내부 상태가 있습니다. \n",
    "# 상태 저장 전처리 레이어의 목록은 다음과 같습니다.\n",
    "# 1. Normalization: 특성의 평균 및 표준 편차를 보유합니다.\n",
    "# 2. StringLookup : 입력 값과 출력 인덱스 간의 매핑을 보유합니다.\n",
    "# 결정적으로, 이러한 레이어는 훈련 불가능하다\n",
    "# 이들 상태는 훈련 중에 설정되지 않는다. 훈련 전에 설정해야한다 (이 단계를 적응(adaotation)이라고 한다)\n",
    "# adapt() 메서드를 통해 전처리 레이어의 상태를 훈련 데이터에 노출함으로써 상태를 설정할 수 있다\n",
    "# adapt() 메서드는 Numpy 배열 또는 tf.data.Dataset객체를 사용한다\n",
    "# StringLookup의 경우, 문자열의 목록을 전달할 수 도 있다\n",
    "\"\"\"\n",
    "# Layer Normalization은 각 input의 feature들에 대한 평균과 분산을 구해 batch에 있는 각 input을 정규화하고\n",
    "# Batch normalization은 각 feature의 평균과 분산을 구해서 batch에 있는 각 feature를 정규화한다\n",
    "norm = tf.keras.layers.experimental.preprocessing.Normalization()\n",
    "# adapt()은 훈련 데이터의 샘플을 기반으로 계산하기 위해 사용?????????\n",
    "norm.adapt(adapt_age)\n",
    "age_norm = norm(age)\n",
    "\n",
    "# 미리 만들어놓은 cn_nq를 이용해 입력 데이터를 index로 표현한다\n",
    "cn_look = tf.keras.layers.experimental.preprocessing.StringLookup(vocabulary=cn_nq, mask_token=None)(cn)\n",
    "# index로 표현된 데이터들을 Embedding layer를 통해 연산가능한 벡터로 변환한다????????????\n",
    "# input_dim : 단어 수\n",
    "# output_dim : 벡터의 길이)(모든 임베딩 벡터의 차원)\n",
    "cn_em = tf.keras.layers.Embedding(len(cn_nq) + 1, 10)(cn_look) # (batch,1,10)\n",
    "# 미리 만들어놓은 dn_nq를 이용해 입력 데이터를 index로 표현한다\n",
    "dn_look = tf.keras.layers.experimental.preprocessing.StringLookup(vocabulary=dn_nq, mask_token=None)(dn)\n",
    "# ????????????\n",
    "dn_em = tf.keras.layers.Embedding(len(dn_nq) + 1, 5)(dn_look) # (batch,1, 5)\n",
    "\n",
    "# Concatenate : 입력 데이터를 연결하는 계층\n",
    "# 연결 축을 제외하고는 모두 동일한 모양 \n",
    "# 텐서 목록을 입력으로 취하고 모든 입력을 연결 한 단일 텐서를 반환\n",
    "concat_em = tf.keras.layers.Concatenate()([cn_em, dn_em]) # (batch,1, 15)\n",
    "\n",
    "flatten = tf.keras.layers.Flatten()(concat_em)\n",
    "\n",
    "dc_dense = tf.keras.layers.Dense(16, activation=\"relu\")(flatten)\n",
    "age_dense = tf.keras.layers.Dense(8, activation=\"relu\")(age_norm)\n",
    "\n",
    "total = tf.keras.layers.Concatenate()([dc_dense, age_dense])\n",
    "\n",
    "d1 = tf.keras.layers.Dense(16, activation=\"relu\")(total)\n",
    "d2 = tf.keras.layers.Dense(1)(d1)\n",
    "\n",
    "model = tf.keras.Model(inputs = [age, cn, dn], outputs = d2 )\n",
    "model.summary()\n",
    "                         "
   ]
  },
  {
   "cell_type": "code",
   "execution_count": null,
   "metadata": {},
   "outputs": [],
   "source": [
    "# 모델 학습과정 설정\n",
    "model.compile(optimizer=tf.keras.optimizers.Adam(learning_rate=0.001),\n",
    "              loss= tf.keras.losses.MeanSquaredError(),metrics=['accuracy'])"
   ]
  },
  {
   "cell_type": "code",
   "execution_count": null,
   "metadata": {},
   "outputs": [],
   "source": [
    "age_train=X_train[:,0:1].astype(np.float32)\n",
    "dn_train=X_train[:,1:2]\n",
    "cn_train=X_train[:,2:3]\n",
    "y_train = y_train.astype(np.float32)\n",
    "print(age_train.shape)\n",
    "print(dn_train.shape)\n",
    "print(cn_train.shape)"
   ]
  },
  {
   "cell_type": "code",
   "execution_count": null,
   "metadata": {},
   "outputs": [],
   "source": [
    "from tensorflow.keras.callbacks import EarlyStopping\n",
    "# 학습 조기 종료 earlystopping\n",
    "# 손실값이 떨어졌다가 다시 올라가기 시작하는 시점부터는 더이상 학습을 진행할 필요가 없어서 트레이닝 조기 종료함\n",
    "\n",
    "# EarlyStopping : monitor로 지정한 기준이 개선되지 않을때 학습을 조기 종료 시켜주는 함수???????????\n",
    "# 인자 \n",
    "#  - patience : 더 이상 개선이 안될 때 얼마나 더 기다려줄지를 지정\n",
    "# (3으로 지정하면 개선이 안되는 시점부터 3번째 까지 학습하고 종료)\n",
    "es=EarlStopping(monitor=\"val_loss\",patience=5,verbose=1)\n",
    "\n",
    "# 모델 학습\n",
    "hist=model.fit({'Age':age_train, 'ClassName': cn_train, 'DivisionName':dn_train},\n",
    "          y_train,\n",
    "          batch_size=1000,\n",
    "          epochs=30,\n",
    "          callbacks=[es],\n",
    "          validation_split=0.1)\n"
   ]
  },
  {
   "cell_type": "code",
   "execution_count": 12,
   "metadata": {},
   "outputs": [
    {
     "name": "stdout",
     "output_type": "stream",
     "text": [
      "Epoch 1/30\n",
      "20/20 [==============================] - 1s 11ms/step - loss: 1.2122 - accuracy: 0.0346 - val_loss: 1.2695 - val_accuracy: 0.0383\n",
      "Epoch 2/30\n",
      "20/20 [==============================] - 0s 5ms/step - loss: 1.2197 - accuracy: 0.0359 - val_loss: 1.2706 - val_accuracy: 0.0383\n",
      "Epoch 3/30\n",
      "20/20 [==============================] - 0s 5ms/step - loss: 1.2409 - accuracy: 0.0370 - val_loss: 1.2693 - val_accuracy: 0.0383\n",
      "Epoch 4/30\n",
      "20/20 [==============================] - 0s 5ms/step - loss: 1.2063 - accuracy: 0.0354 - val_loss: 1.2717 - val_accuracy: 0.0383\n",
      "Epoch 5/30\n",
      "20/20 [==============================] - 0s 5ms/step - loss: 1.2511 - accuracy: 0.0364 - val_loss: 1.2733 - val_accuracy: 0.0383\n",
      "Epoch 6/30\n",
      "20/20 [==============================] - 0s 5ms/step - loss: 1.2371 - accuracy: 0.0371 - val_loss: 1.2738 - val_accuracy: 0.0383\n",
      "Epoch 7/30\n",
      "20/20 [==============================] - 0s 5ms/step - loss: 1.2207 - accuracy: 0.0355 - val_loss: 1.2692 - val_accuracy: 0.0383\n",
      "Epoch 8/30\n",
      "20/20 [==============================] - 0s 5ms/step - loss: 1.2424 - accuracy: 0.0372 - val_loss: 1.2692 - val_accuracy: 0.0383\n",
      "Epoch 9/30\n",
      "20/20 [==============================] - 0s 5ms/step - loss: 1.2252 - accuracy: 0.0366 - val_loss: 1.2720 - val_accuracy: 0.0383\n",
      "Epoch 10/30\n",
      "20/20 [==============================] - 0s 5ms/step - loss: 1.2504 - accuracy: 0.0366 - val_loss: 1.2722 - val_accuracy: 0.0383\n",
      "Epoch 11/30\n",
      "20/20 [==============================] - 0s 5ms/step - loss: 1.2258 - accuracy: 0.0360 - val_loss: 1.2697 - val_accuracy: 0.0383\n",
      "Epoch 12/30\n",
      "20/20 [==============================] - 0s 5ms/step - loss: 1.2452 - accuracy: 0.0370 - val_loss: 1.2732 - val_accuracy: 0.0383\n",
      "Epoch 13/30\n",
      "20/20 [==============================] - 0s 5ms/step - loss: 1.2326 - accuracy: 0.0353 - val_loss: 1.2680 - val_accuracy: 0.0383\n",
      "Epoch 14/30\n",
      "20/20 [==============================] - 0s 5ms/step - loss: 1.2363 - accuracy: 0.0369 - val_loss: 1.2672 - val_accuracy: 0.0383\n",
      "Epoch 15/30\n",
      "20/20 [==============================] - 0s 5ms/step - loss: 1.2303 - accuracy: 0.0361 - val_loss: 1.2691 - val_accuracy: 0.0383\n",
      "Epoch 16/30\n",
      "20/20 [==============================] - 0s 5ms/step - loss: 1.2515 - accuracy: 0.0378 - val_loss: 1.2696 - val_accuracy: 0.0383\n",
      "Epoch 17/30\n",
      "20/20 [==============================] - 0s 5ms/step - loss: 1.2377 - accuracy: 0.0375 - val_loss: 1.2731 - val_accuracy: 0.0383\n",
      "Epoch 18/30\n",
      "20/20 [==============================] - 0s 5ms/step - loss: 1.2450 - accuracy: 0.0372 - val_loss: 1.2720 - val_accuracy: 0.0383\n",
      "Epoch 19/30\n",
      "20/20 [==============================] - 0s 5ms/step - loss: 1.2229 - accuracy: 0.0348 - val_loss: 1.2725 - val_accuracy: 0.0383\n",
      "Epoch 20/30\n",
      "20/20 [==============================] - 0s 5ms/step - loss: 1.2425 - accuracy: 0.0369 - val_loss: 1.2694 - val_accuracy: 0.0383\n",
      "Epoch 21/30\n",
      "20/20 [==============================] - 0s 5ms/step - loss: 1.2513 - accuracy: 0.0373 - val_loss: 1.2698 - val_accuracy: 0.0383\n",
      "Epoch 22/30\n",
      "20/20 [==============================] - 0s 5ms/step - loss: 1.2379 - accuracy: 0.0365 - val_loss: 1.2714 - val_accuracy: 0.0383\n",
      "Epoch 23/30\n",
      "20/20 [==============================] - 0s 5ms/step - loss: 1.2244 - accuracy: 0.0359 - val_loss: 1.2712 - val_accuracy: 0.0383\n",
      "Epoch 24/30\n",
      "20/20 [==============================] - 0s 5ms/step - loss: 1.2400 - accuracy: 0.0370 - val_loss: 1.2671 - val_accuracy: 0.0383\n",
      "Epoch 25/30\n",
      "20/20 [==============================] - 0s 5ms/step - loss: 1.2267 - accuracy: 0.0360 - val_loss: 1.2676 - val_accuracy: 0.0383\n",
      "Epoch 26/30\n",
      "20/20 [==============================] - 0s 5ms/step - loss: 1.2537 - accuracy: 0.0387 - val_loss: 1.2713 - val_accuracy: 0.0383\n",
      "Epoch 27/30\n",
      "20/20 [==============================] - 0s 5ms/step - loss: 1.2418 - accuracy: 0.0365 - val_loss: 1.2699 - val_accuracy: 0.0383\n",
      "Epoch 28/30\n",
      "20/20 [==============================] - 0s 5ms/step - loss: 1.2499 - accuracy: 0.0381 - val_loss: 1.2672 - val_accuracy: 0.0383\n",
      "Epoch 29/30\n",
      "20/20 [==============================] - 0s 5ms/step - loss: 1.2337 - accuracy: 0.0375 - val_loss: 1.2709 - val_accuracy: 0.0383\n",
      "Epoch 30/30\n",
      "20/20 [==============================] - 0s 5ms/step - loss: 1.2511 - accuracy: 0.0376 - val_loss: 1.2694 - val_accuracy: 0.0383\n"
     ]
    },
    {
     "data": {
      "image/png": "[encoded data removed]",
      "text/plain": [
       "<Figure size 432x288 with 1 Axes>"
      ]
     },
     "metadata": {
      "needs_background": "light"
     },
     "output_type": "display_data"
    },
    {
     "data": {
      "image/png": "[encoded data removed]",
      "text/plain": [
       "<Figure size 432x288 with 1 Axes>"
      ]
     },
     "metadata": {
      "needs_background": "light"
     },
     "output_type": "display_data"
    }
   ],
   "source": [
    "\n",
    "import matplotlib.pyplot as plt\n",
    "\n",
    "#fig,loss_ax=plt.subplots()\n",
    "#acc_ax=loss_ax.twinx()\n",
    "\n",
    "#loss_ax.plot(hist.history[\"loss\"],\"y\",label=\"train loss\")\n",
    "#loss_ax.plot(hist.history[\"val_loss\"],\"r\",label=\"val loss\")\n",
    "#loss_ax.set_xlabel(\"epoch\")\n",
    "#loss_ax.set_ylabel(\"loss\")\n",
    "#loss_ax.legend(loc=\"upper left\")\n",
    "\n",
    "#acc_ax.plot(hist.history[\"accuracy\"],\"b\",label=\"train acc\")\n",
    "#acc_ax.plot(hist.history[\"val_accuracy\"],\"g\",label=\"val acc\")\n",
    "#acc_ax.set_ylabel(\"accuracy\")\n",
    "#acc_ax.legend(loc=\"upper left\")\n",
    "\n",
    "#plt.show()\n",
    "\n",
    "\n",
    "plt.plot(hist.history['accuracy'])\n",
    "plt.plot(hist.history['val_accuracy'])\n",
    "plt.title('Model accuracy')\n",
    "plt.xlabel('Epoch')\n",
    "plt.ylabel('Accuracy')\n",
    "plt.legend(['Train', 'Test'], loc='upper left')\n",
    "plt.show()\n",
    "\n",
    "plt.plot(hist.history['loss'])\n",
    "plt.plot(hist.history['val_loss'])\n",
    "plt.title('Model loss')\n",
    "plt.xlabel('Epoch')\n",
    "plt.ylabel('Loss')\n",
    "plt.legend(['Train', 'Test'], loc='upper left')\n",
    "plt.show()\n",
    "\n",
    "# loss : 훈련 손실값\n",
    "# - 결과 값과의 차이를 의미하므로 작을 수록 좋고 0에 수렴할수록 좋은 모델\n",
    "# acc : 훈련 정확도\n",
    "# - 1에 가깝고 높을수록 좋은 모델\n",
    "# val_loss : 검증 손실값\n",
    "# val_acc : 검증 정확도"
   ]
  },
  {
   "cell_type": "code",
   "execution_count": 13,
   "metadata": {},
   "outputs": [
    {
     "name": "stdout",
     "output_type": "stream",
     "text": [
      "[[4.0947065]\n",
      " [4.283595 ]\n",
      " [4.251232 ]\n",
      " ...\n",
      " [4.1993303]\n",
      " [4.200498 ]\n",
      " [4.164819 ]]\n"
     ]
    }
   ],
   "source": [
    "age_test = X_test[:,0:1].astype(np.float32)\n",
    "dn_test = X_test[:,1:2]\n",
    "cn_test = X_test[:,2:3]\n",
    "\n",
    "# 모델 예측\n",
    "result=model.predict({\"Age\":age_test,\"ClassName\":cn_test,\"DivisionName\":dn_test})\n",
    "print(result)"
   ]
  },
  {
   "cell_type": "code",
   "execution_count": 3,
   "metadata": {},
   "outputs": [],
   "source": [
    "# https://m.blog.naver.com/PostView.naver?isHttpsRedirect=true&blogId=sogangori&logNo=221035995877\n",
    "# http://igl-blog.com/tag/normalization/\n",
    "# https://yonghyuc.wordpress.com/2020/03/04/batch-norm-vs-layer-norm/\n",
    "# https://www.tensorflow.org/api_docs/python/tf/keras/layers/experimental/preprocessing/TextVectorization\n",
    "# https://dodonam.tistory.com/188"
   ]
  }
 ],
 "metadata": {
  "kernelspec": {
   "display_name": "Python 3",
   "language": "python",
   "name": "python3"
  },
  "language_info": {
   "codemirror_mode": {
    "name": "ipython",
    "version": 3
   },
   "file_extension": ".py",
   "mimetype": "text/x-python",
   "name": "python",
   "nbconvert_exporter": "python",
   "pygments_lexer": "ipython3",
   "version": "3.8.5"
  }
 },
 "nbformat": 4,
 "nbformat_minor": 4
}

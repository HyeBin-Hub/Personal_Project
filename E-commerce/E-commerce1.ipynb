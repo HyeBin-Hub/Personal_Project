{
 "cells": [
  {
   "cell_type": "code",
   "execution_count": 1,
   "metadata": {},
   "outputs": [],
   "source": [
    "import pandas as pd\n",
    "import numpy as np\n",
    "import tensorflow as tf\n",
    "from sklearn.model_selection import train_test_split\n",
    "\n",
    "df=pd.read_csv(\"./data/Womens Clothing E-Commerce Reviews.csv\")"
   ]
  },
  {
   "cell_type": "code",
   "execution_count": 2,
   "metadata": {},
   "outputs": [],
   "source": [
    "# 데이터 전처리\n",
    "df[\"Class Name\"]=df[\"Class Name\"].fillna(\"None\")\n",
    "df[\"Division Name\"]=df[\"Division Name\"].fillna(\"None\")\n",
    "df[\"Age\"]=df[\"Age\"].fillna(30)"
   ]
  },
  {
   "cell_type": "code",
   "execution_count": 3,
   "metadata": {},
   "outputs": [
    {
     "name": "stdout",
     "output_type": "stream",
     "text": [
      "(21137, 3)\n",
      "(2349, 3)\n",
      "(21137,)\n",
      "(2349,)\n"
     ]
    }
   ],
   "source": [
    "train = df[['Age','Division Name','Class Name','Rating']].to_numpy()\n",
    "X_train, X_test, y_train, y_test = train_test_split(train[:,:-1], train[:,-1], test_size=0.1)\n",
    "print(X_train.shape)\n",
    "print(X_test.shape)\n",
    "print(y_train.shape)\n",
    "print(y_test.shape)"
   ]
  },
  {
   "cell_type": "code",
   "execution_count": 4,
   "metadata": {},
   "outputs": [
    {
     "name": "stdout",
     "output_type": "stream",
     "text": [
      "(100, 1)\n",
      "['Intimates' 'Dresses' 'Pants' 'Blouses' 'Knits' 'Outerwear' 'Lounge'\n",
      " 'Sweaters' 'Skirts' 'Fine gauge' 'Sleep' 'Jackets' 'Swim' 'Trend' 'Jeans'\n",
      " 'Legwear' 'Shorts' 'Layering' 'Casual bottoms' 'None' 'Chemises']\n",
      "['Initmates' 'General' 'General Petite' 'None']\n"
     ]
    }
   ],
   "source": [
    "adapt_age = np.array(range(100), dtype=np.float32)\n",
    "adapt_age = np.reshape(adapt_age,(-1,1))\n",
    "cn_nq =  df['Class Name'].unique()\n",
    "dn_nq = df['Division Name'].unique()\n",
    "print(adapt_age.shape)\n",
    "print(cn_nq)\n",
    "print(dn_nq)"
   ]
  },
  {
   "cell_type": "markdown",
   "metadata": {},
   "source": [
    "- Normalization\n",
    "<img src=\"./image/Normalization.png\" height=\"600px\" width=\"600px\" >\n",
    "\n",
    "Layer Normalization은 각 input의 feature들에 대한 평균과 분산을 구해 batch에 있는 각 input을 정규화하고\n",
    "Batch normalization은 각 feature의 평균과 분산을 구해서 batch에 있는 각 feature를 정규화한다고 한다."
   ]
  },
  {
   "cell_type": "code",
   "execution_count": 2,
   "metadata": {},
   "outputs": [
    {
     "data": {
      "text/plain": [
       "<tf.Tensor: shape=(2, 3), dtype=int64, numpy=\n",
       "array([[2, 4, 5],\n",
       "       [5, 1, 3]], dtype=int64)>"
      ]
     },
     "execution_count": 2,
     "metadata": {},
     "output_type": "execute_result"
    }
   ],
   "source": [
    "# =================================================================================\n",
    "# StringLookup layer Example\n",
    "\n",
    "vocab = [\"a\", \"b\", \"c\", \"d\"]\n",
    "data = tf.constant([[\"a\", \"c\", \"d\"], [\"d\", \"z\", \"b\"]])\n",
    "layer = tf.keras.layers.experimental.preprocessing.StringLookup(vocabulary=vocab)\n",
    "layer(data)\n",
    "\n",
    "# vocab로 단어집을 만들고 tf.constant로 변수를 선언해준 다음\n",
    "# StringLookup layer에 인자로 단어집을 넣어주면\n",
    "# data의 값들이 index로 표현된다 \n",
    "# ================================================================================="
   ]
  },
  {
   "cell_type": "code",
   "execution_count": 5,
   "metadata": {
    "scrolled": true
   },
   "outputs": [
    {
     "name": "stdout",
     "output_type": "stream",
     "text": [
      "Model: \"model\"\n",
      "__________________________________________________________________________________________________\n",
      "Layer (type)                    Output Shape         Param #     Connected to                     \n",
      "==================================================================================================\n",
      "ClassName (InputLayer)          [(None, 1)]          0                                            \n",
      "__________________________________________________________________________________________________\n",
      "DivisionName (InputLayer)       [(None, 1)]          0                                            \n",
      "__________________________________________________________________________________________________\n",
      "string_lookup (StringLookup)    (None, 1)            0           ClassName[0][0]                  \n",
      "__________________________________________________________________________________________________\n",
      "string_lookup_1 (StringLookup)  (None, 1)            0           DivisionName[0][0]               \n",
      "__________________________________________________________________________________________________\n",
      "embedding (Embedding)           (None, 1, 10)        220         string_lookup[0][0]              \n",
      "__________________________________________________________________________________________________\n",
      "embedding_1 (Embedding)         (None, 1, 5)         25          string_lookup_1[0][0]            \n",
      "__________________________________________________________________________________________________\n",
      "concatenate (Concatenate)       (None, 1, 15)        0           embedding[0][0]                  \n",
      "                                                                 embedding_1[0][0]                \n",
      "__________________________________________________________________________________________________\n",
      "Age (InputLayer)                [(None, 1)]          0                                            \n",
      "__________________________________________________________________________________________________\n",
      "flatten (Flatten)               (None, 15)           0           concatenate[0][0]                \n",
      "__________________________________________________________________________________________________\n",
      "normalization (Normalization)   (None, 1)            3           Age[0][0]                        \n",
      "__________________________________________________________________________________________________\n",
      "dense (Dense)                   (None, 16)           256         flatten[0][0]                    \n",
      "__________________________________________________________________________________________________\n",
      "dense_1 (Dense)                 (None, 8)            16          normalization[0][0]              \n",
      "__________________________________________________________________________________________________\n",
      "concatenate_1 (Concatenate)     (None, 24)           0           dense[0][0]                      \n",
      "                                                                 dense_1[0][0]                    \n",
      "__________________________________________________________________________________________________\n",
      "dense_2 (Dense)                 (None, 16)           400         concatenate_1[0][0]              \n",
      "__________________________________________________________________________________________________\n",
      "dense_3 (Dense)                 (None, 1)            17          dense_2[0][0]                    \n",
      "==================================================================================================\n",
      "Total params: 937\n",
      "Trainable params: 934\n",
      "Non-trainable params: 3\n",
      "__________________________________________________________________________________________________\n"
     ]
    }
   ],
   "source": [
    "# input사이즈가 (1,)인 이유는 입력해준 열들이 다 하나의 값만 가지고 있자나\n",
    "# shape=(32,) 는 예상 입력이 32 차원 벡터의 배치임을 나타냅니다. \n",
    "# 입력이 3개가 들어감\n",
    "age = tf.keras.Input(shape=(1,), name='Age')\n",
    "cn = tf.keras.Input(shape=(1,), dtype='string', name='ClassName')\n",
    "dn = tf.keras.Input(shape=(1,), dtype='string', name='DivisionName')\n",
    "\n",
    "# Layer Normalization은 각 input의 feature들에 대한 평균과 분산을 구해 batch에 있는 각 input을 정규화하고\n",
    "# Batch normalization은 각 feature의 평균과 분산을 구해서 batch에 있는 각 feature를 정규화한다\n",
    "norm = tf.keras.layers.experimental.preprocessing.Normalization()\n",
    "# adapt()은 임의의 배열을 만들어 그 배열을 normalization하여 정규화하고자 하는 데이터에 적용\n",
    "norm.adapt(adapt_age)\n",
    "age_norm = norm(age)\n",
    "\n",
    "# 미리 만들어놓은 cn_nq를 이용해 입력 데이터를 index로 표현한다\n",
    "cn_look = tf.keras.layers.experimental.preprocessing.StringLookup(vocabulary=cn_nq, mask_token=None)(cn)\n",
    "# index로 표현된 데이터들을 Embedding layer를 통해 연산가능한 조밀한 벡터로 변환한다\n",
    "# input_dim : 단어 수\n",
    "# output_dim : 벡터의 길이(모든 임베딩 벡터의 차원)\n",
    "cn_em = tf.keras.layers.Embedding(len(cn_nq) + 1, 10)(cn_look) # (batch,1,10)\n",
    "# 미리 만들어놓은 dn_nq를 이용해 입력 데이터를 index로 표현한다\n",
    "dn_look = tf.keras.layers.experimental.preprocessing.StringLookup(vocabulary=dn_nq, mask_token=None)(dn)\n",
    "dn_em = tf.keras.layers.Embedding(len(dn_nq) + 1, 5)(dn_look) # (batch,1, 5)\n",
    "\n",
    "# Concatenate : 입력 데이터를 연결하는 계층\n",
    "# 연결 축을 제외하고는 모두 동일한 모양 \n",
    "# 텐서 목록을 입력으로 취하고 모든 입력을 연결 한 단일 텐서를 반환\n",
    "concat_em = tf.keras.layers.Concatenate()([cn_em, dn_em]) # (batch,1, 15)\n",
    "\n",
    "flatten = tf.keras.layers.Flatten()(concat_em)\n",
    "\n",
    "dc_dense = tf.keras.layers.Dense(16, activation=\"relu\")(flatten)\n",
    "age_dense = tf.keras.layers.Dense(8, activation=\"relu\")(age_norm)\n",
    "\n",
    "total = tf.keras.layers.Concatenate()([dc_dense, age_dense])\n",
    "\n",
    "d1 = tf.keras.layers.Dense(16, activation=\"relu\")(total)\n",
    "d2 = tf.keras.layers.Dense(1)(d1)\n",
    "\n",
    "model = tf.keras.Model(inputs = [age, cn, dn], outputs = d2 )\n",
    "model.summary()\n",
    "                         "
   ]
  },
  {
   "cell_type": "code",
   "execution_count": 6,
   "metadata": {},
   "outputs": [],
   "source": [
    "# 모델 학습과정 설정\n",
    "model.compile(optimizer=tf.keras.optimizers.Adam(learning_rate=0.001),\n",
    "              loss= tf.keras.losses.MeanSquaredError(),metrics=['mse'])# MSE, MAE"
   ]
  },
  {
   "cell_type": "code",
   "execution_count": 7,
   "metadata": {},
   "outputs": [
    {
     "name": "stdout",
     "output_type": "stream",
     "text": [
      "(21137, 1)\n",
      "(21137, 1)\n",
      "(21137, 1)\n"
     ]
    }
   ],
   "source": [
    "age_train=X_train[:,0:1].astype(np.float32)\n",
    "dn_train=X_train[:,1:2]\n",
    "cn_train=X_train[:,2:3]\n",
    "y_train = y_train.astype(np.float32)\n",
    "print(age_train.shape)\n",
    "print(dn_train.shape)\n",
    "print(cn_train.shape)"
   ]
  },
  {
   "cell_type": "code",
   "execution_count": 8,
   "metadata": {},
   "outputs": [
    {
     "name": "stdout",
     "output_type": "stream",
     "text": [
      "Epoch 1/50\n",
      "20/20 [==============================] - 2s 48ms/step - loss: 19.0299 - mse: 19.0299 - val_loss: 17.9904 - val_mse: 17.9904\n",
      "Epoch 2/50\n",
      "20/20 [==============================] - 0s 5ms/step - loss: 17.4995 - mse: 17.4995 - val_loss: 16.2453 - val_mse: 16.2453\n",
      "Epoch 3/50\n",
      "20/20 [==============================] - 0s 5ms/step - loss: 15.5725 - mse: 15.5725 - val_loss: 13.3492 - val_mse: 13.3492\n",
      "Epoch 4/50\n",
      "20/20 [==============================] - 0s 5ms/step - loss: 12.3238 - mse: 12.3238 - val_loss: 9.0918 - val_mse: 9.0918\n",
      "Epoch 5/50\n",
      "20/20 [==============================] - 0s 5ms/step - loss: 7.8671 - mse: 7.8671 - val_loss: 4.3138 - val_mse: 4.3138\n",
      "Epoch 6/50\n",
      "20/20 [==============================] - 0s 5ms/step - loss: 3.4028 - mse: 3.4028 - val_loss: 1.5504 - val_mse: 1.5504\n",
      "Epoch 7/50\n",
      "20/20 [==============================] - 0s 5ms/step - loss: 1.4347 - mse: 1.4347 - val_loss: 1.2809 - val_mse: 1.2809\n",
      "Epoch 8/50\n",
      "20/20 [==============================] - 0s 5ms/step - loss: 1.3184 - mse: 1.3184 - val_loss: 1.2342 - val_mse: 1.2342\n",
      "Epoch 9/50\n",
      "20/20 [==============================] - 0s 5ms/step - loss: 1.2734 - mse: 1.2734 - val_loss: 1.2193 - val_mse: 1.2193\n",
      "Epoch 10/50\n",
      "20/20 [==============================] - 0s 5ms/step - loss: 1.2474 - mse: 1.2474 - val_loss: 1.2082 - val_mse: 1.2082\n",
      "Epoch 11/50\n",
      "20/20 [==============================] - 0s 5ms/step - loss: 1.2604 - mse: 1.2604 - val_loss: 1.2005 - val_mse: 1.2005\n",
      "Epoch 12/50\n",
      "20/20 [==============================] - 0s 5ms/step - loss: 1.2413 - mse: 1.2413 - val_loss: 1.1971 - val_mse: 1.1971\n",
      "Epoch 13/50\n",
      "20/20 [==============================] - 0s 5ms/step - loss: 1.2378 - mse: 1.2378 - val_loss: 1.1949 - val_mse: 1.1949\n",
      "Epoch 14/50\n",
      "20/20 [==============================] - 0s 5ms/step - loss: 1.2638 - mse: 1.2638 - val_loss: 1.1907 - val_mse: 1.1907\n",
      "Epoch 15/50\n",
      "20/20 [==============================] - 0s 5ms/step - loss: 1.2488 - mse: 1.2488 - val_loss: 1.1880 - val_mse: 1.1880\n",
      "Epoch 16/50\n",
      "20/20 [==============================] - 0s 5ms/step - loss: 1.2203 - mse: 1.2203 - val_loss: 1.1861 - val_mse: 1.1861\n",
      "Epoch 17/50\n",
      "20/20 [==============================] - 0s 5ms/step - loss: 1.2134 - mse: 1.2134 - val_loss: 1.1858 - val_mse: 1.1858\n",
      "Epoch 18/50\n",
      "20/20 [==============================] - 0s 5ms/step - loss: 1.2413 - mse: 1.2413 - val_loss: 1.1837 - val_mse: 1.1837\n",
      "Epoch 19/50\n",
      "20/20 [==============================] - 0s 5ms/step - loss: 1.2179 - mse: 1.2179 - val_loss: 1.1830 - val_mse: 1.1830\n",
      "Epoch 20/50\n",
      "20/20 [==============================] - 0s 5ms/step - loss: 1.2240 - mse: 1.2240 - val_loss: 1.1836 - val_mse: 1.1836\n",
      "Epoch 21/50\n",
      "20/20 [==============================] - 0s 5ms/step - loss: 1.2116 - mse: 1.2116 - val_loss: 1.1851 - val_mse: 1.1851\n",
      "Epoch 22/50\n",
      "20/20 [==============================] - 0s 5ms/step - loss: 1.2164 - mse: 1.2164 - val_loss: 1.1852 - val_mse: 1.1852\n",
      "Epoch 23/50\n",
      "20/20 [==============================] - 0s 5ms/step - loss: 1.2079 - mse: 1.2079 - val_loss: 1.1835 - val_mse: 1.1835\n",
      "Epoch 24/50\n",
      "20/20 [==============================] - 0s 5ms/step - loss: 1.2294 - mse: 1.2294 - val_loss: 1.1830 - val_mse: 1.1830\n",
      "Epoch 00024: early stopping\n"
     ]
    }
   ],
   "source": [
    "from tensorflow.keras.callbacks import EarlyStopping\n",
    "# 학습 조기 종료 earlystopping\n",
    "# 손실값이 떨어졌다가 다시 올라가기 시작하는 시점부터는 더이상 학습을 진행할 필요가 없어서 트레이닝 조기 종료함\n",
    "\n",
    "# EarlyStopping : monitor로 지정한 기준이 개선되지 않을때 학습을 조기 종료 시켜주는 함수\n",
    "# 인자 \n",
    "#  - patience : 더 이상 개선이 안될 때 얼마나 더 기다려줄지를 지정\n",
    "# (3으로 지정하면 개선이 안되는 시점부터 3번째 까지 학습하고 종료)\n",
    "es=EarlyStopping(monitor=\"val_loss\",patience=5,verbose=1)\n",
    "\n",
    "# 모델 학습\n",
    "hist=model.fit({'Age':age_train, 'ClassName': cn_train, 'DivisionName':dn_train},\n",
    "          y_train,\n",
    "          batch_size=1000,\n",
    "          epochs=50,\n",
    "          callbacks=[es],\n",
    "          validation_split=0.1)\n"
   ]
  },
  {
   "cell_type": "code",
   "execution_count": 10,
   "metadata": {},
   "outputs": [
    {
     "data": {
      "image/png": "[encoded data removed]",
      "text/plain": [
       "<Figure size 432x288 with 1 Axes>"
      ]
     },
     "metadata": {
      "needs_background": "light"
     },
     "output_type": "display_data"
    },
    {
     "data": {
      "image/png": "[encoded data removed]",
      "text/plain": [
       "<Figure size 432x288 with 1 Axes>"
      ]
     },
     "metadata": {
      "needs_background": "light"
     },
     "output_type": "display_data"
    }
   ],
   "source": [
    "\n",
    "import matplotlib.pyplot as plt\n",
    "\n",
    "#fig,loss_ax=plt.subplots()\n",
    "#acc_ax=loss_ax.twinx()\n",
    "\n",
    "#loss_ax.plot(hist.history[\"loss\"],\"y\",label=\"train loss\")\n",
    "#loss_ax.plot(hist.history[\"val_loss\"],\"r\",label=\"val loss\")\n",
    "#loss_ax.set_xlabel(\"epoch\")\n",
    "#loss_ax.set_ylabel(\"loss\")\n",
    "#loss_ax.legend(loc=\"upper left\")\n",
    "\n",
    "#acc_ax.plot(hist.history[\"accuracy\"],\"b\",label=\"train acc\")\n",
    "#acc_ax.plot(hist.history[\"val_accuracy\"],\"g\",label=\"val acc\")\n",
    "#acc_ax.set_ylabel(\"accuracy\")\n",
    "#acc_ax.legend(loc=\"upper left\")\n",
    "\n",
    "#plt.show()\n",
    "\n",
    "\n",
    "plt.plot(hist.history['mse'])\n",
    "plt.plot(hist.history['val_mse'])\n",
    "plt.title('Model mse')\n",
    "plt.xlabel('Epoch')\n",
    "plt.ylabel('mse')\n",
    "plt.legend(['Train', 'Test'], loc='upper left')\n",
    "plt.show()\n",
    "\n",
    "plt.plot(hist.history['loss'])\n",
    "plt.plot(hist.history['val_loss'])\n",
    "plt.title('Model loss')\n",
    "plt.xlabel('Epoch')\n",
    "plt.ylabel('Loss')\n",
    "plt.legend(['Train', 'Test'], loc='upper left')\n",
    "plt.show()\n",
    "\n",
    "# loss : 훈련 손실값\n",
    "# - 결과 값과의 차이를 의미하므로 작을 수록 좋고 0에 수렴할수록 좋은 모델\n",
    "# acc : 훈련 정확도\n",
    "# - 1에 가깝고 높을수록 좋은 모델\n",
    "# val_loss : 검증 손실값\n",
    "# val_acc : 검증 정확도"
   ]
  },
  {
   "cell_type": "code",
   "execution_count": 11,
   "metadata": {},
   "outputs": [
    {
     "name": "stdout",
     "output_type": "stream",
     "text": [
      "[[4.310479 ]\n",
      " [4.142769 ]\n",
      " [4.1044965]\n",
      " ...\n",
      " [4.229489 ]\n",
      " [4.2101293]\n",
      " [4.1191154]]\n"
     ]
    }
   ],
   "source": [
    "age_test = X_test[:,0:1].astype(np.float32)\n",
    "dn_test = X_test[:,1:2]\n",
    "cn_test = X_test[:,2:3]\n",
    "\n",
    "# 모델 예측\n",
    "result=model.predict({\"Age\":age_test,\"ClassName\":cn_test,\"DivisionName\":dn_test})\n",
    "print(result)"
   ]
  },
  {
   "cell_type": "code",
   "execution_count": 3,
   "metadata": {},
   "outputs": [],
   "source": [
    "# https://m.blog.naver.com/PostView.naver?isHttpsRedirect=true&blogId=sogangori&logNo=221035995877\n",
    "# http://igl-blog.com/tag/normalization/\n",
    "# https://yonghyuc.wordpress.com/2020/03/04/batch-norm-vs-layer-norm/\n",
    "# https://www.tensorflow.org/api_docs/python/tf/keras/layers/experimental/preprocessing/TextVectorization\n",
    "# https://dodonam.tistory.com/188"
   ]
  }
 ],
 "metadata": {
  "kernelspec": {
   "display_name": "Python 3",
   "language": "python",
   "name": "python3"
  },
  "language_info": {
   "codemirror_mode": {
    "name": "ipython",
    "version": 3
   },
   "file_extension": ".py",
   "mimetype": "text/x-python",
   "name": "python",
   "nbconvert_exporter": "python",
   "pygments_lexer": "ipython3",
   "version": "3.8.5"
  }
 },
 "nbformat": 4,
 "nbformat_minor": 4
}

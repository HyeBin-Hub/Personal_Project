{
 "cells": [
  {
   "cell_type": "code",
   "execution_count": 1,
   "metadata": {},
   "outputs": [
    {
     "data": {
      "text/html": [
       "<div>\n",
       "<style scoped>\n",
       "    .dataframe tbody tr th:only-of-type {\n",
       "        vertical-align: middle;\n",
       "    }\n",
       "\n",
       "    .dataframe tbody tr th {\n",
       "        vertical-align: top;\n",
       "    }\n",
       "\n",
       "    .dataframe thead th {\n",
       "        text-align: right;\n",
       "    }\n",
       "</style>\n",
       "<table border=\"1\" class=\"dataframe\">\n",
       "  <thead>\n",
       "    <tr style=\"text-align: right;\">\n",
       "      <th></th>\n",
       "      <th>Price</th>\n",
       "      <th>Year</th>\n",
       "      <th>Month</th>\n",
       "    </tr>\n",
       "    <tr>\n",
       "      <th>Date</th>\n",
       "      <th></th>\n",
       "      <th></th>\n",
       "      <th></th>\n",
       "    </tr>\n",
       "  </thead>\n",
       "  <tbody>\n",
       "    <tr>\n",
       "      <th>1950-01</th>\n",
       "      <td>34.730</td>\n",
       "      <td>1950</td>\n",
       "      <td>1</td>\n",
       "    </tr>\n",
       "    <tr>\n",
       "      <th>1950-02</th>\n",
       "      <td>34.730</td>\n",
       "      <td>1950</td>\n",
       "      <td>2</td>\n",
       "    </tr>\n",
       "    <tr>\n",
       "      <th>1950-03</th>\n",
       "      <td>34.730</td>\n",
       "      <td>1950</td>\n",
       "      <td>3</td>\n",
       "    </tr>\n",
       "    <tr>\n",
       "      <th>1950-04</th>\n",
       "      <td>34.730</td>\n",
       "      <td>1950</td>\n",
       "      <td>4</td>\n",
       "    </tr>\n",
       "    <tr>\n",
       "      <th>1950-05</th>\n",
       "      <td>34.730</td>\n",
       "      <td>1950</td>\n",
       "      <td>5</td>\n",
       "    </tr>\n",
       "    <tr>\n",
       "      <th>...</th>\n",
       "      <td>...</td>\n",
       "      <td>...</td>\n",
       "      <td>...</td>\n",
       "    </tr>\n",
       "    <tr>\n",
       "      <th>2020-03</th>\n",
       "      <td>1593.764</td>\n",
       "      <td>2020</td>\n",
       "      <td>3</td>\n",
       "    </tr>\n",
       "    <tr>\n",
       "      <th>2020-04</th>\n",
       "      <td>1680.030</td>\n",
       "      <td>2020</td>\n",
       "      <td>4</td>\n",
       "    </tr>\n",
       "    <tr>\n",
       "      <th>2020-05</th>\n",
       "      <td>1715.697</td>\n",
       "      <td>2020</td>\n",
       "      <td>5</td>\n",
       "    </tr>\n",
       "    <tr>\n",
       "      <th>2020-06</th>\n",
       "      <td>1734.032</td>\n",
       "      <td>2020</td>\n",
       "      <td>6</td>\n",
       "    </tr>\n",
       "    <tr>\n",
       "      <th>2020-07</th>\n",
       "      <td>1840.807</td>\n",
       "      <td>2020</td>\n",
       "      <td>7</td>\n",
       "    </tr>\n",
       "  </tbody>\n",
       "</table>\n",
       "<p>847 rows × 3 columns</p>\n",
       "</div>"
      ],
      "text/plain": [
       "            Price  Year  Month\n",
       "Date                          \n",
       "1950-01    34.730  1950      1\n",
       "1950-02    34.730  1950      2\n",
       "1950-03    34.730  1950      3\n",
       "1950-04    34.730  1950      4\n",
       "1950-05    34.730  1950      5\n",
       "...           ...   ...    ...\n",
       "2020-03  1593.764  2020      3\n",
       "2020-04  1680.030  2020      4\n",
       "2020-05  1715.697  2020      5\n",
       "2020-06  1734.032  2020      6\n",
       "2020-07  1840.807  2020      7\n",
       "\n",
       "[847 rows x 3 columns]"
      ]
     },
     "execution_count": 1,
     "metadata": {},
     "output_type": "execute_result"
    }
   ],
   "source": [
    "import pandas as pd\n",
    "\n",
    "df_monthly=pd.read_csv(\"./data/monthly_csv.csv\")\n",
    "\n",
    "# 시계열 자료를 년도와 월로 나눠 시간 순으로 정렬\n",
    "df_monthly['Year'] = pd.DatetimeIndex(df_monthly['Date']).year\n",
    "df_monthly['Month'] = pd.DatetimeIndex(df_monthly['Date']).month\n",
    "df_monthly.set_index([\"Date\"])"
   ]
  },
  {
   "cell_type": "code",
   "execution_count": 2,
   "metadata": {},
   "outputs": [
    {
     "name": "stdout",
     "output_type": "stream",
     "text": [
      "(837, 9, 1) (837,)\n",
      "(9,) ()\n"
     ]
    }
   ],
   "source": [
    "import numpy as np\n",
    "\n",
    "price=df_monthly[\"Price\"].to_numpy()\n",
    "\n",
    "train_x=[]\n",
    "train_y=[]\n",
    "\n",
    "test_x=price[-10:-1]\n",
    "test_y=price[-1]\n",
    "\n",
    "for i in range(price.shape[0]-10):\n",
    "    #print(price[i:i+9])\n",
    "    train_x.append(price[i:i+9])\n",
    "    #print(price[i+9])\n",
    "    train_y.append(price[i+9])\n",
    "    \n",
    "train_x=np.array(train_x)\n",
    "train_y=np.array(train_y)\n",
    "train_x=np.reshape(train_x,(-1,9,1))\n",
    "\n",
    "print(train_x.shape,train_y.shape)\n",
    "print(test_x.shape,test_y.shape)"
   ]
  },
  {
   "cell_type": "code",
   "execution_count": 3,
   "metadata": {},
   "outputs": [
    {
     "name": "stdout",
     "output_type": "stream",
     "text": [
      "Model: \"model\"\n",
      "_________________________________________________________________\n",
      "Layer (type)                 Output Shape              Param #   \n",
      "=================================================================\n",
      "input (InputLayer)           [(None, 9, 1)]            0         \n",
      "_________________________________________________________________\n",
      "bidirectional (Bidirectional (None, 9, 12)             384       \n",
      "_________________________________________________________________\n",
      "bidirectional_1 (Bidirection (None, 12)                912       \n",
      "_________________________________________________________________\n",
      "dense (Dense)                (None, 6)                 78        \n",
      "_________________________________________________________________\n",
      "dense_1 (Dense)              (None, 1)                 7         \n",
      "=================================================================\n",
      "Total params: 1,381\n",
      "Trainable params: 1,381\n",
      "Non-trainable params: 0\n",
      "_________________________________________________________________\n"
     ]
    }
   ],
   "source": [
    "import tensorflow as tf\n",
    "from tensorflow.keras import layers\n",
    "\n",
    "# 모델 생성\n",
    "inputs=tf.keras.Input(shape=(9,1),name=\"input\")\n",
    "\n",
    "# 기존 LSTM은 이전 데이터의 time step들이 이후 데이터 time step에 영향을 줄 것인지에 대해 가정한다면\n",
    "# Bidirectional LSTM은 이후 데이터의 time step가 이전 데이터의 time step에 영향을 줄것이지에 대한 가정이다\n",
    "# Bidirectional LSTM은 두개의 LSTM을 연결해 사용한다\n",
    "\n",
    "#lstw1=layers.LSTM(6,return_sequences=True)(inputs)\n",
    "#lstw2=layers.LSTM(6,return_sequences=True)(lstw1)\n",
    "bilstm1=layers.Bidirectional(layers.LSTM(6,return_sequences=True))(inputs)\n",
    "bilstm2=layers.Bidirectional(layers.LSTM(6))(bilstm1)\n",
    "di=layers.Dense(6,activation=\"relu\")(bilstm2)\n",
    "outputs=layers.Dense(1)(di)\n",
    "\n",
    "model=tf.keras.Model(inputs=inputs,outputs=outputs)  \n",
    "\n",
    "# 모델 학습과정 설정 \n",
    "model.compile(optimizer=tf.keras.optimizers.Adam(learning_rate=0.01),\n",
    "             loss=tf.keras.losses.MeanSquaredError(),\n",
    "             metrics=[\"mse\"])\n",
    "\n",
    "model.summary()"
   ]
  },
  {
   "cell_type": "code",
   "execution_count": 4,
   "metadata": {},
   "outputs": [
    {
     "name": "stdout",
     "output_type": "stream",
     "text": [
      "Epoch 1/20\n",
      "9/9 [==============================] - 11s 13ms/step - loss: 366517.2000 - mse: 366517.2000\n",
      "Epoch 2/20\n",
      "9/9 [==============================] - 0s 8ms/step - loss: 395471.6813 - mse: 395471.6813\n",
      "Epoch 3/20\n",
      "9/9 [==============================] - 0s 9ms/step - loss: 378981.6531 - mse: 378981.6531\n",
      "Epoch 4/20\n",
      "9/9 [==============================] - 0s 9ms/step - loss: 370536.1281 - mse: 370536.1281\n",
      "Epoch 5/20\n",
      "9/9 [==============================] - 0s 9ms/step - loss: 354691.4875 - mse: 354691.4875\n",
      "Epoch 6/20\n",
      "9/9 [==============================] - 0s 9ms/step - loss: 343425.3219 - mse: 343425.3219\n",
      "Epoch 7/20\n",
      "9/9 [==============================] - 0s 10ms/step - loss: 354381.4781 - mse: 354381.4781\n",
      "Epoch 8/20\n",
      "9/9 [==============================] - 0s 10ms/step - loss: 363931.4219 - mse: 363931.4219\n",
      "Epoch 9/20\n",
      "9/9 [==============================] - 0s 9ms/step - loss: 349460.0469 - mse: 349460.0469\n",
      "Epoch 10/20\n",
      "9/9 [==============================] - 0s 9ms/step - loss: 337693.1813 - mse: 337693.1813\n",
      "Epoch 11/20\n",
      "9/9 [==============================] - 0s 9ms/step - loss: 336008.7344 - mse: 336008.7375\n",
      "Epoch 12/20\n",
      "9/9 [==============================] - 0s 9ms/step - loss: 286144.7828 - mse: 286144.7828\n",
      "Epoch 13/20\n",
      "9/9 [==============================] - 0s 9ms/step - loss: 281991.3547 - mse: 281991.3547\n",
      "Epoch 14/20\n",
      "9/9 [==============================] - 0s 9ms/step - loss: 276308.0359 - mse: 276308.0328\n",
      "Epoch 15/20\n",
      "9/9 [==============================] - 0s 9ms/step - loss: 271312.1328 - mse: 271312.1328\n",
      "Epoch 16/20\n",
      "9/9 [==============================] - 0s 9ms/step - loss: 288621.1156 - mse: 288621.1188\n",
      "Epoch 17/20\n",
      "9/9 [==============================] - 0s 9ms/step - loss: 226257.5625 - mse: 226257.5625\n",
      "Epoch 18/20\n",
      "9/9 [==============================] - 0s 9ms/step - loss: 250634.9922 - mse: 250634.9922\n",
      "Epoch 19/20\n",
      "9/9 [==============================] - 0s 9ms/step - loss: 240096.5438 - mse: 240096.5609\n",
      "Epoch 20/20\n",
      "9/9 [==============================] - 0s 9ms/step - loss: 220193.0953 - mse: 220193.0953\n"
     ]
    },
    {
     "data": {
      "text/plain": [
       "<tensorflow.python.keras.callbacks.History at 0x2686decf5e0>"
      ]
     },
     "execution_count": 4,
     "metadata": {},
     "output_type": "execute_result"
    }
   ],
   "source": [
    "model.fit(train_x,train_y,epochs=20,batch_size=100)"
   ]
  },
  {
   "cell_type": "code",
   "execution_count": 5,
   "metadata": {},
   "outputs": [
    {
     "data": {
      "text/plain": [
       "array([[255.83824]], dtype=float32)"
      ]
     },
     "execution_count": 5,
     "metadata": {},
     "output_type": "execute_result"
    }
   ],
   "source": [
    "# 모델 예측\n",
    "model.predict(np.reshape(test_x,(-1,9,1)))"
   ]
  },
  {
   "cell_type": "code",
   "execution_count": null,
   "metadata": {},
   "outputs": [],
   "source": [
    "# https://pozalabs.github.io/blstm/"
   ]
  }
 ],
 "metadata": {
  "kernelspec": {
   "display_name": "Python 3",
   "language": "python",
   "name": "python3"
  },
  "language_info": {
   "codemirror_mode": {
    "name": "ipython",
    "version": 3
   },
   "file_extension": ".py",
   "mimetype": "text/x-python",
   "name": "python",
   "nbconvert_exporter": "python",
   "pygments_lexer": "ipython3",
   "version": "3.8.5"
  }
 },
 "nbformat": 4,
 "nbformat_minor": 4
}
